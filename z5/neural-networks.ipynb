{
 "cells": [
  {
   "cell_type": "markdown",
   "source": [
    "# Sieci neuronowe dla klasyfikacji\n",
    "\n",
    "Do przygotowania poniższych programów wykorzystano następujące dataset'y:\n",
    "\n",
    "- [banknote authentication dataset](https://archive.ics.uci.edu/ml/datasets/banknote+authentication)\n",
    "- [cifar10 dataset](https://www.tensorflow.org/datasets/catalog/cifar10) - klasyfikacja trzech zwierząt (kota, żaby oraz konia)\n",
    "- [fashion mnist (Zalando)](https://www.tensorflow.org/datasets/catalog/fashion_mnist)\n",
    "\n",
    "Implementacja:\n",
    "\n",
    "- Sylwester Kąkol\n",
    "- Adam Jurkiewicz"
   ],
   "metadata": {
    "collapsed": false
   }
  },
  {
   "cell_type": "markdown",
   "source": [
    "## Banknotes Authentication"
   ],
   "metadata": {
    "collapsed": false
   }
  },
  {
   "cell_type": "code",
   "execution_count": 33,
   "metadata": {},
   "outputs": [],
   "source": [
    "import tensorflow as tf\n",
    "import numpy as np\n",
    "import pandas as pd\n",
    "import matplotlib.pyplot as plt\n",
    "from sklearn.metrics import plot_confusion_matrix, ConfusionMatrixDisplay, confusion_matrix"
   ]
  },
  {
   "cell_type": "markdown",
   "metadata": {},
   "source": [
    "\n",
    "Classifying banknotes as real or fake.\n"
   ]
  },
  {
   "cell_type": "code",
   "execution_count": 34,
   "metadata": {},
   "outputs": [
    {
     "name": "stdout",
     "output_type": "stream",
     "text": [
      "<----->\n",
      "Banknote\n",
      "<----->\n"
     ]
    }
   ],
   "source": [
    "print(\"<----->\\nBanknote\\n<----->\")\n",
    "banknote_data = pd.read_csv('banknotes.csv', names=['Variance', 'Skewness', 'Kurtosis', 'Entropy', 'Class'])\n",
    "b_train_dataset = banknote_data.sample(frac=0.8, random_state=200)\n",
    "b_test_dataset = banknote_data.drop(b_train_dataset.index)\n",
    "\n",
    "b_train_data = b_train_dataset.copy()\n",
    "b_train_label = b_train_data.pop('Class')\n",
    "b_train_label = np.array(b_train_label)\n",
    "\n",
    "b_test_data = b_test_dataset.copy()\n",
    "b_test_label = b_test_data.pop('Class')\n",
    "b_test_label = np.array(b_test_label)"
   ]
  },
  {
   "cell_type": "code",
   "execution_count": 35,
   "metadata": {},
   "outputs": [
    {
     "name": "stdout",
     "output_type": "stream",
     "text": [
      "Epoch 1/5\n"
     ]
    },
    {
     "name": "stderr",
     "output_type": "stream",
     "text": [
      "2022-12-14 21:05:06.659439: I tensorflow/core/grappler/optimizers/custom_graph_optimizer_registry.cc:113] Plugin optimizer for device_type GPU is enabled.\n"
     ]
    },
    {
     "name": "stdout",
     "output_type": "stream",
     "text": [
      "35/35 [==============================] - 1s 12ms/step - loss: 5.7459 - accuracy: 0.1931\n",
      "Epoch 2/5\n",
      "35/35 [==============================] - 0s 5ms/step - loss: 2.7268 - accuracy: 0.2313\n",
      "Epoch 3/5\n",
      "35/35 [==============================] - 0s 5ms/step - loss: 1.5102 - accuracy: 0.2495\n",
      "Epoch 4/5\n",
      "35/35 [==============================] - 0s 5ms/step - loss: 0.9129 - accuracy: 0.3288\n",
      "Epoch 5/5\n",
      "35/35 [==============================] - 0s 5ms/step - loss: 0.5935 - accuracy: 0.4399\n"
     ]
    },
    {
     "data": {
      "text/plain": "<keras.callbacks.History at 0x29c102d40>"
     },
     "execution_count": 35,
     "metadata": {},
     "output_type": "execute_result"
    }
   ],
   "source": [
    "banknote_model = tf.keras.Sequential([tf.keras.layers.Dense(64, activation='relu'),\n",
    "                                      tf.keras.layers.Dense(1)\n",
    "                                      ])\n",
    "banknote_model.compile(optimizer='adam',\n",
    "                       loss='mean_squared_error',\n",
    "                       metrics=['accuracy']\n",
    "                       )\n",
    "banknote_model.fit(b_train_data, b_train_label, epochs=5)"
   ]
  },
  {
   "cell_type": "markdown",
   "source": [
    "## CIFAR10"
   ],
   "metadata": {
    "collapsed": false
   }
  },
  {
   "cell_type": "markdown",
   "metadata": {},
   "source": [
    "\n",
    "Classifying 3 different animals.\n"
   ]
  },
  {
   "cell_type": "code",
   "execution_count": 36,
   "metadata": {},
   "outputs": [
    {
     "name": "stdout",
     "output_type": "stream",
     "text": [
      "<----->\n",
      "Cifar10 Selected Animals\n",
      "<----->\n"
     ]
    }
   ],
   "source": [
    "print(\"<----->\\nCifar10 Selected Animals\\n<----->\")\n",
    "cifar10_data = tf.keras.datasets.cifar10\n",
    "(c_train_data, c_train_label), (c_test_data, c_test_label) = cifar10_data.load_data()\n",
    "c_train_data = c_train_data / 255.0\n",
    "c_test_data = c_test_data / 255.0"
   ]
  },
  {
   "cell_type": "code",
   "execution_count": 37,
   "metadata": {},
   "outputs": [],
   "source": [
    "train_cat_index = np.where(c_train_label.reshape(-1) == 3)\n",
    "train_cat_data = c_train_data[train_cat_index]\n",
    "train_cat_label = c_train_label[train_cat_index]"
   ]
  },
  {
   "cell_type": "code",
   "execution_count": 38,
   "metadata": {},
   "outputs": [],
   "source": [
    "train_frog_index = np.where(c_train_label.reshape(-1) == 6)\n",
    "train_frog_data = c_train_data[train_frog_index]\n",
    "train_frog_label = c_train_label[train_frog_index]"
   ]
  },
  {
   "cell_type": "code",
   "execution_count": 39,
   "metadata": {},
   "outputs": [],
   "source": [
    "train_horse_index = np.where(c_train_label.reshape(-1) == 7)\n",
    "train_horse_data = c_train_data[train_horse_index]\n",
    "train_horse_label = c_train_label[train_horse_index]"
   ]
  },
  {
   "cell_type": "code",
   "execution_count": 40,
   "metadata": {},
   "outputs": [],
   "source": [
    "cifar3_train_data = np.concatenate((train_cat_data, train_frog_data, train_horse_data))\n",
    "cifar3_train_label = np.concatenate((train_cat_label, train_frog_label, train_horse_label)).reshape(-1, 1)\n",
    "cifar3_train_label[cifar3_train_label == 3] = 0\n",
    "cifar3_train_label[cifar3_train_label == 6] = 1\n",
    "cifar3_train_label[cifar3_train_label == 7] = 2"
   ]
  },
  {
   "cell_type": "code",
   "execution_count": 41,
   "metadata": {},
   "outputs": [
    {
     "name": "stdout",
     "output_type": "stream",
     "text": [
      "Epoch 1/10\n",
      "  1/469 [..............................] - ETA: 2:18 - loss: 1.0930 - accuracy: 0.4062"
     ]
    },
    {
     "name": "stderr",
     "output_type": "stream",
     "text": [
      "2022-12-14 21:05:10.479060: I tensorflow/core/grappler/optimizers/custom_graph_optimizer_registry.cc:113] Plugin optimizer for device_type GPU is enabled.\n"
     ]
    },
    {
     "name": "stdout",
     "output_type": "stream",
     "text": [
      "469/469 [==============================] - 4s 9ms/step - loss: 0.7608 - accuracy: 0.6561\n",
      "Epoch 2/10\n",
      "469/469 [==============================] - 4s 9ms/step - loss: 0.5427 - accuracy: 0.7724\n",
      "Epoch 3/10\n",
      "469/469 [==============================] - 4s 8ms/step - loss: 0.4720 - accuracy: 0.8068\n",
      "Epoch 4/10\n",
      "469/469 [==============================] - 4s 9ms/step - loss: 0.4315 - accuracy: 0.8262\n",
      "Epoch 5/10\n",
      "469/469 [==============================] - 4s 9ms/step - loss: 0.3945 - accuracy: 0.8425\n",
      "Epoch 6/10\n",
      "469/469 [==============================] - 4s 8ms/step - loss: 0.3672 - accuracy: 0.8555\n",
      "Epoch 7/10\n",
      "469/469 [==============================] - 4s 9ms/step - loss: 0.3562 - accuracy: 0.8595\n",
      "Epoch 8/10\n",
      "469/469 [==============================] - 4s 9ms/step - loss: 0.3257 - accuracy: 0.8727\n",
      "Epoch 9/10\n",
      "469/469 [==============================] - 4s 9ms/step - loss: 0.3090 - accuracy: 0.8769\n",
      "Epoch 10/10\n",
      "469/469 [==============================] - 4s 9ms/step - loss: 0.2905 - accuracy: 0.8835\n"
     ]
    },
    {
     "data": {
      "text/plain": "<keras.callbacks.History at 0x29edcaef0>"
     },
     "execution_count": 41,
     "metadata": {},
     "output_type": "execute_result"
    }
   ],
   "source": [
    "test_cat_index = np.where(c_test_label.reshape(-1) == 3)\n",
    "test_cat_data = c_test_data[test_cat_index]\n",
    "test_cat_label = c_test_label[test_cat_index]\n",
    "\n",
    "test_frog_index = np.where(c_test_label.reshape(-1) == 6)\n",
    "test_frog_data = c_test_data[test_frog_index]\n",
    "test_frog_label = c_test_label[test_frog_index]\n",
    "\n",
    "test_horse_index = np.where(c_test_label.reshape(-1) == 7)\n",
    "test_horse_data = c_test_data[test_horse_index]\n",
    "test_horse_label = c_test_label[test_horse_index]\n",
    "\n",
    "cifar3_test_data = np.concatenate((test_cat_data, test_frog_data, test_horse_data))\n",
    "cifar3_test_label = np.concatenate((test_cat_label, test_frog_label, test_horse_label)).reshape(-1, 1)\n",
    "cifar3_test_label[cifar3_test_label == 3] = 0\n",
    "cifar3_test_label[cifar3_test_label == 6] = 1\n",
    "cifar3_test_label[cifar3_test_label == 7] = 2\n",
    "\n",
    "cifar3_model = tf.keras.models.Sequential(\n",
    "    [tf.keras.layers.Conv2D(filters=32, kernel_size=(3, 3), activation='relu', input_shape=(32, 32, 3)),\n",
    "     tf.keras.layers.MaxPooling2D((2, 2)),\n",
    "     tf.keras.layers.Conv2D(filters=64, kernel_size=(3, 3), activation='relu'),\n",
    "     tf.keras.layers.MaxPooling2D((2, 2)),\n",
    "     tf.keras.layers.Flatten(),\n",
    "     tf.keras.layers.Dense(64, activation='relu'),\n",
    "     tf.keras.layers.Dense(3, activation='softmax')\n",
    "     ])\n",
    "cifar3_model.compile(optimizer='adam',\n",
    "                     loss='sparse_categorical_crossentropy',\n",
    "                     metrics=['accuracy']\n",
    "                     )\n",
    "cifar3_model.fit(cifar3_train_data, cifar3_train_label, epochs=10)"
   ]
  },
  {
   "cell_type": "markdown",
   "source": [
    "## Fashion MNIST"
   ],
   "metadata": {
    "collapsed": false
   }
  },
  {
   "cell_type": "markdown",
   "metadata": {},
   "source": [
    "\n",
    "Classifying 10 different types of clothes.\n"
   ]
  },
  {
   "cell_type": "code",
   "execution_count": 42,
   "metadata": {},
   "outputs": [
    {
     "name": "stdout",
     "output_type": "stream",
     "text": [
      "<----->\n",
      "Fashion Mnist\n",
      "<----->\n"
     ]
    }
   ],
   "source": [
    "print(\"<----->\\nFashion Mnist\\n<----->\")\n",
    "fashion_data = tf.keras.datasets.fashion_mnist\n",
    "(f_train_data, f_train_label), (f_test_data, f_test_label) = fashion_data.load_data()\n",
    "f_train_data = f_train_data / 255.0\n",
    "f_test_data = f_test_data / 255.0"
   ]
  },
  {
   "cell_type": "code",
   "execution_count": 44,
   "metadata": {},
   "outputs": [
    {
     "name": "stdout",
     "output_type": "stream",
     "text": [
      "Epoch 1/10\n",
      "  18/1875 [..............................] - ETA: 11s - loss: 1.6048 - accuracy: 0.4705"
     ]
    },
    {
     "name": "stderr",
     "output_type": "stream",
     "text": [
      "2022-12-14 21:06:10.927850: I tensorflow/core/grappler/optimizers/custom_graph_optimizer_registry.cc:113] Plugin optimizer for device_type GPU is enabled.\n"
     ]
    },
    {
     "name": "stdout",
     "output_type": "stream",
     "text": [
      "1875/1875 [==============================] - 9s 5ms/step - loss: 0.4949 - accuracy: 0.8264\n",
      "Epoch 2/10\n",
      "1875/1875 [==============================] - 9s 5ms/step - loss: 0.3741 - accuracy: 0.8635\n",
      "Epoch 3/10\n",
      "1875/1875 [==============================] - 9s 5ms/step - loss: 0.3343 - accuracy: 0.8767\n",
      "Epoch 4/10\n",
      "1875/1875 [==============================] - 8s 5ms/step - loss: 0.3112 - accuracy: 0.8863\n",
      "Epoch 5/10\n",
      "1875/1875 [==============================] - 9s 5ms/step - loss: 0.2940 - accuracy: 0.8917\n",
      "Epoch 6/10\n",
      "1875/1875 [==============================] - 9s 5ms/step - loss: 0.2808 - accuracy: 0.8971\n",
      "Epoch 7/10\n",
      "1875/1875 [==============================] - 9s 5ms/step - loss: 0.2672 - accuracy: 0.9011\n",
      "Epoch 8/10\n",
      "1875/1875 [==============================] - 8s 4ms/step - loss: 0.2561 - accuracy: 0.9053\n",
      "Epoch 9/10\n",
      "1875/1875 [==============================] - 9s 5ms/step - loss: 0.2482 - accuracy: 0.9082\n",
      "Epoch 10/10\n",
      "1875/1875 [==============================] - 9s 5ms/step - loss: 0.2383 - accuracy: 0.9104\n"
     ]
    },
    {
     "data": {
      "text/plain": "<keras.callbacks.History at 0x29c0be800>"
     },
     "execution_count": 44,
     "metadata": {},
     "output_type": "execute_result"
    }
   ],
   "source": [
    "fashion_model = tf.keras.Sequential([tf.keras.layers.Flatten(input_shape=(28, 28)),\n",
    "                                     tf.keras.layers.Dense(128, activation='relu'),\n",
    "                                     tf.keras.layers.Dense(10, activation='softmax')\n",
    "                                     ])\n",
    "fashion_model.compile(optimizer='adam',\n",
    "                      loss='sparse_categorical_crossentropy',\n",
    "                      metrics=['accuracy']\n",
    "                      )\n",
    "fashion_model.fit(f_train_data, f_train_label, epochs=10)"
   ]
  },
  {
   "cell_type": "markdown",
   "source": [
    "### Confusion matrix"
   ],
   "metadata": {
    "collapsed": false
   }
  },
  {
   "cell_type": "code",
   "execution_count": 45,
   "outputs": [
    {
     "name": "stdout",
     "output_type": "stream",
     "text": [
      " 79/313 [======>.......................] - ETA: 0s"
     ]
    },
    {
     "name": "stderr",
     "output_type": "stream",
     "text": [
      "2022-12-14 21:08:15.157258: I tensorflow/core/grappler/optimizers/custom_graph_optimizer_registry.cc:113] Plugin optimizer for device_type GPU is enabled.\n"
     ]
    },
    {
     "name": "stdout",
     "output_type": "stream",
     "text": [
      "313/313 [==============================] - 1s 2ms/step\n"
     ]
    },
    {
     "data": {
      "text/plain": "<sklearn.metrics._plot.confusion_matrix.ConfusionMatrixDisplay at 0x353527bb0>"
     },
     "execution_count": 45,
     "metadata": {},
     "output_type": "execute_result"
    },
    {
     "data": {
      "text/plain": "<Figure size 1000x1000 with 2 Axes>",
      "image/png": "[encoded data removed]"
     },
     "metadata": {},
     "output_type": "display_data"
    }
   ],
   "source": [
    "label_names = [\"T-shirt/top\",\"Trouser\",\"Pullover\",\"Dress\",\"Coat\",\"Sandal\",\"Shirt\",\"Sneaker\",\"Bag\",\"Ankle boot\"]\n",
    "test_labels = np.array(f_test_label)\n",
    "\n",
    "# Make predictions\n",
    "y_probabilities = fashion_model.predict(f_test_data)\n",
    "\n",
    "# Convert prediction probabilities into integers\n",
    "y_predictions = y_probabilities.argmax(axis=1)\n",
    "\n",
    "# Confusion matrix\n",
    "cm=confusion_matrix(y_predictions,test_labels)\n",
    "\n",
    "# Plot\n",
    "disp = ConfusionMatrixDisplay(confusion_matrix=cm, display_labels=label_names)\n",
    "fig, ax = plt.subplots(figsize=(10,10))\n",
    "disp.plot(ax=ax)"
   ],
   "metadata": {
    "collapsed": false
   }
  },
  {
   "cell_type": "markdown",
   "metadata": {},
   "source": [
    "\n",
    "## Classifying age of abalones.\n"
   ]
  },
  {
   "cell_type": "code",
   "execution_count": 46,
   "metadata": {},
   "outputs": [
    {
     "name": "stdout",
     "output_type": "stream",
     "text": [
      "<----->\n",
      "Abalone\n",
      "<----->\n"
     ]
    },
    {
     "name": "stderr",
     "output_type": "stream",
     "text": [
      "2022-12-14 21:08:15.999928: I tensorflow/core/grappler/optimizers/custom_graph_optimizer_registry.cc:113] Plugin optimizer for device_type GPU is enabled.\n",
      "2022-12-14 21:08:16.020714: I tensorflow/core/grappler/optimizers/custom_graph_optimizer_registry.cc:113] Plugin optimizer for device_type GPU is enabled.\n"
     ]
    }
   ],
   "source": [
    "print(\"<----->\\nAbalone\\n<----->\")\n",
    "abalone_data = pd.read_csv('abalones.csv',\n",
    "                           names=['Length', 'Diameter', 'Height', 'Whole Weight', 'Shucked Weight', 'Viscera Weight',\n",
    "                                  'Shell Weight', 'Age'])\n",
    "a_train_dataset = abalone_data.sample(frac=0.8, random_state=200)\n",
    "a_test_dataset = abalone_data.drop(a_train_dataset.index)\n",
    "\n",
    "a_train_data = a_train_dataset.copy()\n",
    "a_train_label = a_train_data.pop('Age')\n",
    "a_train_label = np.array(a_train_label)\n",
    "\n",
    "a_test_data = a_test_dataset.copy()\n",
    "a_test_label = a_test_data.pop('Age')\n",
    "a_test_label = np.array(a_test_label)\n",
    "\n",
    "normalize = tf.keras.layers.Normalization()\n",
    "normalize.adapt(a_train_data)\n",
    "normalize.adapt(a_test_data)"
   ]
  },
  {
   "cell_type": "code",
   "execution_count": 47,
   "metadata": {},
   "outputs": [
    {
     "name": "stdout",
     "output_type": "stream",
     "text": [
      "Epoch 1/10\n",
      " 1/35 [..............................] - ETA: 9s - loss: 3.3322 - accuracy: 0.0000e+00"
     ]
    },
    {
     "name": "stderr",
     "output_type": "stream",
     "text": [
      "2022-12-14 21:08:16.614332: I tensorflow/core/grappler/optimizers/custom_graph_optimizer_registry.cc:113] Plugin optimizer for device_type GPU is enabled.\n"
     ]
    },
    {
     "name": "stdout",
     "output_type": "stream",
     "text": [
      "35/35 [==============================] - 1s 15ms/step - loss: 3.3001 - accuracy: 0.0000e+00\n",
      "Epoch 2/10\n",
      "35/35 [==============================] - 0s 7ms/step - loss: 3.2328 - accuracy: 0.0000e+00\n",
      "Epoch 3/10\n",
      "35/35 [==============================] - 0s 7ms/step - loss: 3.1658 - accuracy: 0.0000e+00\n",
      "Epoch 4/10\n",
      "35/35 [==============================] - 0s 6ms/step - loss: 3.0991 - accuracy: 0.0000e+00\n",
      "Epoch 5/10\n",
      "35/35 [==============================] - 0s 9ms/step - loss: 3.0327 - accuracy: 0.0000e+00\n",
      "Epoch 6/10\n",
      "35/35 [==============================] - 0s 6ms/step - loss: 2.9666 - accuracy: 0.0000e+00\n",
      "Epoch 7/10\n",
      "35/35 [==============================] - 0s 6ms/step - loss: 2.9009 - accuracy: 0.0000e+00\n",
      "Epoch 8/10\n",
      "35/35 [==============================] - 0s 6ms/step - loss: 2.8356 - accuracy: 0.0000e+00\n",
      "Epoch 9/10\n",
      "35/35 [==============================] - 0s 6ms/step - loss: 2.7706 - accuracy: 0.0000e+00\n",
      "Epoch 10/10\n",
      "35/35 [==============================] - 0s 6ms/step - loss: 2.7061 - accuracy: 0.0000e+00\n",
      "9/9 [==============================] - 0s 10ms/step - loss: 0.4994 - accuracy: 0.4854\n"
     ]
    },
    {
     "name": "stderr",
     "output_type": "stream",
     "text": [
      "2022-12-14 21:08:19.527913: I tensorflow/core/grappler/optimizers/custom_graph_optimizer_registry.cc:113] Plugin optimizer for device_type GPU is enabled.\n"
     ]
    },
    {
     "name": "stdout",
     "output_type": "stream",
     "text": [
      "18/94 [====>.........................] - ETA: 0s - loss: 0.3617 - accuracy: 0.8628"
     ]
    },
    {
     "name": "stderr",
     "output_type": "stream",
     "text": [
      "2022-12-14 21:08:19.786720: I tensorflow/core/grappler/optimizers/custom_graph_optimizer_registry.cc:113] Plugin optimizer for device_type GPU is enabled.\n"
     ]
    },
    {
     "name": "stdout",
     "output_type": "stream",
     "text": [
      "94/94 [==============================] - 1s 6ms/step - loss: 0.4159 - accuracy: 0.8370\n",
      " 33/313 [==>...........................] - ETA: 1s - loss: 0.3246 - accuracy: 0.8930"
     ]
    },
    {
     "name": "stderr",
     "output_type": "stream",
     "text": [
      "2022-12-14 21:08:20.552744: I tensorflow/core/grappler/optimizers/custom_graph_optimizer_registry.cc:113] Plugin optimizer for device_type GPU is enabled.\n"
     ]
    },
    {
     "name": "stdout",
     "output_type": "stream",
     "text": [
      "313/313 [==============================] - 1s 4ms/step - loss: 0.3343 - accuracy: 0.8828\n",
      "9/9 [==============================] - 0s 11ms/step - loss: 2.6725 - accuracy: 0.0000e+00\n",
      "Models accuracy\n",
      "Banknote: 48.54%\n",
      "Cifar3: 83.7%\n",
      "Fashion: 88.28%\n",
      "Abalone: 0.0%\n"
     ]
    },
    {
     "name": "stderr",
     "output_type": "stream",
     "text": [
      "2022-12-14 21:08:22.014172: I tensorflow/core/grappler/optimizers/custom_graph_optimizer_registry.cc:113] Plugin optimizer for device_type GPU is enabled.\n"
     ]
    }
   ],
   "source": [
    "abalone_model = tf.keras.Sequential([normalize,\n",
    "                                     tf.keras.layers.Dense(128, activation='relu'),\n",
    "                                     tf.keras.layers.Dense(64, activation='relu'),\n",
    "                                     tf.keras.layers.Dense(28, activation='softmax')\n",
    "                                     ])\n",
    "abalone_model.compile(optimizer='adam',\n",
    "                      loss='sparse_categorical_crossentropy',\n",
    "                      metrics=['accuracy']\n",
    "                      )\n",
    "abalone_model.fit(a_train_data, a_train_label, epochs=10)\n",
    "print(f\"Models accuracy\"\n",
    "       f\"\\nBanknote: {round(banknote_model.evaluate(b_test_data, b_test_label)[1] * 100, 2)}%\"\n",
    "       f\"\\nCifar3: {round(cifar3_model.evaluate(cifar3_test_data, cifar3_test_label)[1] * 100, 2)}%\"\n",
    "       f\"\\nFashion: {round(fashion_model.evaluate(f_test_data, f_test_label)[1] * 100, 2)}%\"\n",
    "       f\"\\nAbalone: {round(abalone_model.evaluate(a_test_data, a_test_label)[1] * 100, 2)}%\")"
   ]
  }
 ],
 "metadata": {
  "kernelspec": {
   "display_name": "Python 3",
   "language": "python",
   "name": "python3"
  },
  "language_info": {
   "codemirror_mode": {
    "name": "ipython",
    "version": 3
   },
   "file_extension": ".py",
   "mimetype": "text/x-python",
   "name": "python",
   "nbconvert_exporter": "python",
   "pygments_lexer": "ipython3",
   "version": "3.6.4"
  }
 },
 "nbformat": 4,
 "nbformat_minor": 2
}
