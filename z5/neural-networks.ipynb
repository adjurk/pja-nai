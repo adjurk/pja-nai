{
 "cells": [
  {
   "cell_type": "markdown",
   "source": [
    "# Sieci neuronowe dla klasyfikacji\n",
    "\n",
    "Do przygotowania poniższych programów wykorzystano następujące dataset'y:\n",
    "\n",
    "- [banknote authentication dataset](https://archive.ics.uci.edu/ml/datasets/banknote+authentication) - zawiera dwa różne modele w różnych rozmiarach\n",
    "- [cifar10 dataset](https://www.tensorflow.org/datasets/catalog/cifar10) - klasyfikacja trzech zwierząt (kota, żaby oraz konia)\n",
    "- [fashion mnist (Zalando)](https://www.tensorflow.org/datasets/catalog/fashion_mnist) - zawiera confusion matrix\n",
    "\n",
    "Implementacja:\n",
    "\n",
    "- Sylwester Kąkol\n",
    "- Adam Jurkiewicz"
   ],
   "metadata": {
    "collapsed": false
   }
  },
  {
   "cell_type": "markdown",
   "source": [
    "## Banknotes Authentication"
   ],
   "metadata": {
    "collapsed": false
   }
  },
  {
   "cell_type": "code",
   "execution_count": 59,
   "metadata": {},
   "outputs": [],
   "source": [
    "import tensorflow as tf\n",
    "import numpy as np\n",
    "import pandas as pd\n",
    "import matplotlib.pyplot as plt\n",
    "from sklearn.metrics import ConfusionMatrixDisplay, confusion_matrix"
   ]
  },
  {
   "cell_type": "markdown",
   "metadata": {},
   "source": [
    "\n",
    "Classifying banknotes as real or fake.\n",
    "\n",
    "Read the data and split into train&test parts.\n"
   ]
  },
  {
   "cell_type": "code",
   "execution_count": 60,
   "metadata": {},
   "outputs": [
    {
     "name": "stdout",
     "output_type": "stream",
     "text": [
      "<----->\n",
      "Banknote\n",
      "<----->\n"
     ]
    }
   ],
   "source": [
    "print(\"<----->\\nBanknote\\n<----->\")\n",
    "banknote_data = pd.read_csv('banknotes.csv', names=['Variance', 'Skewness', 'Kurtosis', 'Entropy', 'Class'])\n",
    "b_train_dataset = banknote_data.sample(frac=0.8, random_state=200)\n",
    "b_test_dataset = banknote_data.drop(b_train_dataset.index)\n",
    "\n",
    "b_train_data = b_train_dataset.copy()\n",
    "b_train_label = b_train_data.pop('Class')\n",
    "b_train_label = np.array(b_train_label)\n"
   ]
  },
  {
   "cell_type": "markdown",
   "source": [
    "Setup the layers and compile the model."
   ],
   "metadata": {
    "collapsed": false
   }
  },
  {
   "cell_type": "code",
   "execution_count": 61,
   "outputs": [],
   "source": [
    "b_test_data = b_test_dataset.copy()\n",
    "b_test_label = b_test_data.pop('Class')\n",
    "b_test_label = np.array(b_test_label)"
   ],
   "metadata": {
    "collapsed": false
   }
  },
  {
   "cell_type": "code",
   "execution_count": 62,
   "metadata": {},
   "outputs": [
    {
     "name": "stdout",
     "output_type": "stream",
     "text": [
      "Epoch 1/5\n",
      " 7/35 [=====>........................] - ETA: 0s - loss: 8.2897 - accuracy: 0.1964"
     ]
    },
    {
     "name": "stderr",
     "output_type": "stream",
     "text": [
      "2022-12-14 21:51:19.609284: I tensorflow/core/grappler/optimizers/custom_graph_optimizer_registry.cc:113] Plugin optimizer for device_type GPU is enabled.\n"
     ]
    },
    {
     "name": "stdout",
     "output_type": "stream",
     "text": [
      "35/35 [==============================] - 1s 8ms/step - loss: 5.8155 - accuracy: 0.2013\n",
      "Epoch 2/5\n",
      "35/35 [==============================] - 0s 6ms/step - loss: 2.7746 - accuracy: 0.2304\n",
      "Epoch 3/5\n",
      "35/35 [==============================] - 0s 5ms/step - loss: 1.5158 - accuracy: 0.2741\n",
      "Epoch 4/5\n",
      "35/35 [==============================] - 0s 8ms/step - loss: 0.9150 - accuracy: 0.3233\n",
      "Epoch 5/5\n",
      "35/35 [==============================] - 0s 6ms/step - loss: 0.5993 - accuracy: 0.4463\n"
     ]
    },
    {
     "data": {
      "text/plain": "<keras.callbacks.History at 0x319dc3eb0>"
     },
     "execution_count": 62,
     "metadata": {},
     "output_type": "execute_result"
    }
   ],
   "source": [
    "banknote_model = tf.keras.Sequential([tf.keras.layers.Dense(64, activation='relu'),\n",
    "                                      tf.keras.layers.Dense(1)\n",
    "                                      ])\n",
    "banknote_model.compile(optimizer='adam',\n",
    "                       loss='mean_squared_error',\n",
    "                       metrics=['accuracy']\n",
    "                       )\n",
    "banknote_model.fit(b_train_data, b_train_label, epochs=5)"
   ]
  },
  {
   "cell_type": "markdown",
   "source": [
    "Use a different model to classify the same dataset."
   ],
   "metadata": {
    "collapsed": false
   }
  },
  {
   "cell_type": "code",
   "execution_count": 63,
   "outputs": [
    {
     "name": "stdout",
     "output_type": "stream",
     "text": [
      "Epoch 1/5\n"
     ]
    },
    {
     "name": "stderr",
     "output_type": "stream",
     "text": [
      "2022-12-14 21:51:21.068829: I tensorflow/core/grappler/optimizers/custom_graph_optimizer_registry.cc:113] Plugin optimizer for device_type GPU is enabled.\n"
     ]
    },
    {
     "name": "stdout",
     "output_type": "stream",
     "text": [
      "35/35 [==============================] - 1s 7ms/step - loss: 8.7043 - accuracy: 0.2732\n",
      "Epoch 2/5\n",
      "35/35 [==============================] - 0s 5ms/step - loss: 6.6550 - accuracy: 0.2505\n",
      "Epoch 3/5\n",
      "35/35 [==============================] - 0s 5ms/step - loss: 5.2440 - accuracy: 0.2432\n",
      "Epoch 4/5\n",
      "35/35 [==============================] - 0s 6ms/step - loss: 4.2410 - accuracy: 0.2413\n",
      "Epoch 5/5\n",
      "35/35 [==============================] - 0s 5ms/step - loss: 3.4360 - accuracy: 0.2650\n"
     ]
    },
    {
     "data": {
      "text/plain": "<keras.callbacks.History at 0x38dd1ac50>"
     },
     "execution_count": 63,
     "metadata": {},
     "output_type": "execute_result"
    }
   ],
   "source": [
    "banknote_model_v2 = tf.keras.Sequential([tf.keras.layers.Dense(5, activation='relu'),\n",
    "                                          tf.keras.layers.Dense(1)\n",
    "                                          ])\n",
    "banknote_model_v2.compile(optimizer='adam',\n",
    "                       loss='mean_squared_error',\n",
    "                       metrics=['accuracy']\n",
    "                       )\n",
    "banknote_model_v2.fit(b_train_data, b_train_label, epochs=5)"
   ],
   "metadata": {
    "collapsed": false
   }
  },
  {
   "cell_type": "markdown",
   "source": [
    "## CIFAR10"
   ],
   "metadata": {
    "collapsed": false
   }
  },
  {
   "cell_type": "markdown",
   "metadata": {},
   "source": [
    "\n",
    "Classifying 3 different animals.\n"
   ]
  },
  {
   "cell_type": "code",
   "execution_count": 64,
   "metadata": {},
   "outputs": [
    {
     "name": "stdout",
     "output_type": "stream",
     "text": [
      "<----->\n",
      "Cifar10 Selected Animals\n",
      "<----->\n"
     ]
    }
   ],
   "source": [
    "print(\"<----->\\nCifar10 Selected Animals\\n<----->\")\n",
    "cifar10_data = tf.keras.datasets.cifar10\n",
    "(c_train_data, c_train_label), (c_test_data, c_test_label) = cifar10_data.load_data()"
   ]
  },
  {
   "cell_type": "markdown",
   "source": [
    "Divide by 255 to receive values in range 0-1"
   ],
   "metadata": {
    "collapsed": false
   }
  },
  {
   "cell_type": "code",
   "execution_count": 65,
   "outputs": [],
   "source": [
    "c_train_data = c_train_data / 255.0\n",
    "c_test_data = c_test_data / 255.0"
   ],
   "metadata": {
    "collapsed": false
   }
  },
  {
   "cell_type": "markdown",
   "source": [
    "Pick sections of interest from the Cifar10 dataset and then transform into a single dataset.\n",
    "Update labels to match standard array."
   ],
   "metadata": {
    "collapsed": false
   }
  },
  {
   "cell_type": "code",
   "execution_count": 66,
   "metadata": {},
   "outputs": [],
   "source": [
    "train_cat_index = np.where(c_train_label.reshape(-1) == 3)\n",
    "train_cat_data = c_train_data[train_cat_index]\n",
    "train_cat_label = c_train_label[train_cat_index]"
   ]
  },
  {
   "cell_type": "code",
   "execution_count": 67,
   "metadata": {},
   "outputs": [],
   "source": [
    "train_frog_index = np.where(c_train_label.reshape(-1) == 6)\n",
    "train_frog_data = c_train_data[train_frog_index]\n",
    "train_frog_label = c_train_label[train_frog_index]"
   ]
  },
  {
   "cell_type": "code",
   "execution_count": 68,
   "metadata": {},
   "outputs": [],
   "source": [
    "train_horse_index = np.where(c_train_label.reshape(-1) == 7)\n",
    "train_horse_data = c_train_data[train_horse_index]\n",
    "train_horse_label = c_train_label[train_horse_index]"
   ]
  },
  {
   "cell_type": "code",
   "execution_count": 69,
   "metadata": {},
   "outputs": [],
   "source": [
    "cifar3_train_data = np.concatenate((train_cat_data, train_frog_data, train_horse_data))\n",
    "cifar3_train_label = np.concatenate((train_cat_label, train_frog_label, train_horse_label)).reshape(-1, 1)\n",
    "cifar3_train_label[cifar3_train_label == 3] = 0\n",
    "cifar3_train_label[cifar3_train_label == 6] = 1\n",
    "cifar3_train_label[cifar3_train_label == 7] = 2"
   ]
  },
  {
   "cell_type": "code",
   "execution_count": 70,
   "metadata": {},
   "outputs": [],
   "source": [
    "test_cat_index = np.where(c_test_label.reshape(-1) == 3)\n",
    "test_cat_data = c_test_data[test_cat_index]\n",
    "test_cat_label = c_test_label[test_cat_index]\n",
    "\n",
    "test_frog_index = np.where(c_test_label.reshape(-1) == 6)\n",
    "test_frog_data = c_test_data[test_frog_index]\n",
    "test_frog_label = c_test_label[test_frog_index]\n",
    "\n",
    "test_horse_index = np.where(c_test_label.reshape(-1) == 7)\n",
    "test_horse_data = c_test_data[test_horse_index]\n",
    "test_horse_label = c_test_label[test_horse_index]\n",
    "\n",
    "cifar3_test_data = np.concatenate((test_cat_data, test_frog_data, test_horse_data))\n",
    "cifar3_test_label = np.concatenate((test_cat_label, test_frog_label, test_horse_label)).reshape(-1, 1)\n",
    "cifar3_test_label[cifar3_test_label == 3] = 0\n",
    "cifar3_test_label[cifar3_test_label == 6] = 1\n",
    "cifar3_test_label[cifar3_test_label == 7] = 2"
   ]
  },
  {
   "cell_type": "markdown",
   "source": [
    "Build convolution neural network."
   ],
   "metadata": {
    "collapsed": false
   }
  },
  {
   "cell_type": "code",
   "execution_count": 71,
   "outputs": [
    {
     "name": "stdout",
     "output_type": "stream",
     "text": [
      "Epoch 1/10\n",
      "  1/469 [..............................] - ETA: 2:15 - loss: 1.0995 - accuracy: 0.3750"
     ]
    },
    {
     "name": "stderr",
     "output_type": "stream",
     "text": [
      "2022-12-14 21:51:23.634122: I tensorflow/core/grappler/optimizers/custom_graph_optimizer_registry.cc:113] Plugin optimizer for device_type GPU is enabled.\n"
     ]
    },
    {
     "name": "stdout",
     "output_type": "stream",
     "text": [
      "469/469 [==============================] - 5s 10ms/step - loss: 0.7299 - accuracy: 0.6752\n",
      "Epoch 2/10\n",
      "469/469 [==============================] - 4s 9ms/step - loss: 0.5193 - accuracy: 0.7858\n",
      "Epoch 3/10\n",
      "469/469 [==============================] - 4s 8ms/step - loss: 0.4427 - accuracy: 0.8231\n",
      "Epoch 4/10\n",
      "469/469 [==============================] - 4s 8ms/step - loss: 0.4119 - accuracy: 0.8346\n",
      "Epoch 5/10\n",
      "469/469 [==============================] - 4s 8ms/step - loss: 0.3665 - accuracy: 0.8539\n",
      "Epoch 6/10\n",
      "469/469 [==============================] - 5s 10ms/step - loss: 0.3465 - accuracy: 0.8627\n",
      "Epoch 7/10\n",
      "469/469 [==============================] - 6s 12ms/step - loss: 0.3173 - accuracy: 0.8763\n",
      "Epoch 8/10\n",
      "469/469 [==============================] - 5s 11ms/step - loss: 0.2856 - accuracy: 0.8877\n",
      "Epoch 9/10\n",
      "469/469 [==============================] - 5s 10ms/step - loss: 0.2647 - accuracy: 0.8951\n",
      "Epoch 10/10\n",
      "469/469 [==============================] - 4s 9ms/step - loss: 0.2435 - accuracy: 0.9051\n"
     ]
    },
    {
     "data": {
      "text/plain": "<keras.callbacks.History at 0x3f43b9780>"
     },
     "execution_count": 71,
     "metadata": {},
     "output_type": "execute_result"
    }
   ],
   "source": [
    "cifar3_model = tf.keras.models.Sequential(\n",
    "    [tf.keras.layers.Conv2D(filters=32, kernel_size=(3, 3), activation='relu', input_shape=(32, 32, 3)),\n",
    "     tf.keras.layers.MaxPooling2D((2, 2)),\n",
    "     tf.keras.layers.Conv2D(filters=64, kernel_size=(3, 3), activation='relu'),\n",
    "     tf.keras.layers.MaxPooling2D((2, 2)),\n",
    "     tf.keras.layers.Flatten(),\n",
    "     tf.keras.layers.Dense(64, activation='relu'),\n",
    "     tf.keras.layers.Dense(3, activation='softmax')\n",
    "     ])\n",
    "cifar3_model.compile(optimizer='adam',\n",
    "                     loss='sparse_categorical_crossentropy',\n",
    "                     metrics=['accuracy']\n",
    "                     )\n",
    "cifar3_model.fit(cifar3_train_data, cifar3_train_label, epochs=10)"
   ],
   "metadata": {
    "collapsed": false
   }
  },
  {
   "cell_type": "markdown",
   "source": [
    "## Fashion MNIST"
   ],
   "metadata": {
    "collapsed": false
   }
  },
  {
   "cell_type": "markdown",
   "metadata": {},
   "source": [
    "\n",
    "Classifying 10 different types of clothes.\n"
   ]
  },
  {
   "cell_type": "code",
   "execution_count": 72,
   "metadata": {},
   "outputs": [
    {
     "name": "stdout",
     "output_type": "stream",
     "text": [
      "<----->\n",
      "Fashion Mnist\n",
      "<----->\n"
     ]
    }
   ],
   "source": [
    "print(\"<----->\\nFashion Mnist\\n<----->\")\n",
    "fashion_data = tf.keras.datasets.fashion_mnist\n",
    "(f_train_data, f_train_label), (f_test_data, f_test_label) = fashion_data.load_data()\n",
    "f_train_data = f_train_data / 255.0\n",
    "f_test_data = f_test_data / 255.0"
   ]
  },
  {
   "cell_type": "markdown",
   "source": [
    "Flatten transforms the format of the images from a 2D array into one dimensional array of 28x28."
   ],
   "metadata": {
    "collapsed": false
   }
  },
  {
   "cell_type": "code",
   "execution_count": 73,
   "metadata": {},
   "outputs": [
    {
     "name": "stdout",
     "output_type": "stream",
     "text": [
      "Epoch 1/10\n",
      "  16/1875 [..............................] - ETA: 13s - loss: 1.7181 - accuracy: 0.4121"
     ]
    },
    {
     "name": "stderr",
     "output_type": "stream",
     "text": [
      "2022-12-14 21:52:09.030684: I tensorflow/core/grappler/optimizers/custom_graph_optimizer_registry.cc:113] Plugin optimizer for device_type GPU is enabled.\n"
     ]
    },
    {
     "name": "stdout",
     "output_type": "stream",
     "text": [
      "1875/1875 [==============================] - 9s 5ms/step - loss: 0.4983 - accuracy: 0.8245\n",
      "Epoch 2/10\n",
      "1875/1875 [==============================] - 9s 5ms/step - loss: 0.3717 - accuracy: 0.8658\n",
      "Epoch 3/10\n",
      "1875/1875 [==============================] - 10s 5ms/step - loss: 0.3373 - accuracy: 0.8764\n",
      "Epoch 4/10\n",
      "1875/1875 [==============================] - 9s 5ms/step - loss: 0.3127 - accuracy: 0.8861\n",
      "Epoch 5/10\n",
      "1875/1875 [==============================] - 9s 5ms/step - loss: 0.2973 - accuracy: 0.8907\n",
      "Epoch 6/10\n",
      "1875/1875 [==============================] - 9s 5ms/step - loss: 0.2799 - accuracy: 0.8967\n",
      "Epoch 7/10\n",
      "1875/1875 [==============================] - 10s 5ms/step - loss: 0.2695 - accuracy: 0.8994\n",
      "Epoch 8/10\n",
      "1875/1875 [==============================] - 9s 5ms/step - loss: 0.2585 - accuracy: 0.9038\n",
      "Epoch 9/10\n",
      "1875/1875 [==============================] - 10s 5ms/step - loss: 0.2482 - accuracy: 0.9071\n",
      "Epoch 10/10\n",
      "1875/1875 [==============================] - 10s 5ms/step - loss: 0.2406 - accuracy: 0.9102\n"
     ]
    },
    {
     "data": {
      "text/plain": "<keras.callbacks.History at 0x3c4c8b310>"
     },
     "execution_count": 73,
     "metadata": {},
     "output_type": "execute_result"
    }
   ],
   "source": [
    "fashion_model = tf.keras.Sequential([tf.keras.layers.Flatten(input_shape=(28, 28)),\n",
    "                                     tf.keras.layers.Dense(128, activation='relu'),\n",
    "                                     tf.keras.layers.Dense(10, activation='softmax')\n",
    "                                     ])\n",
    "fashion_model.compile(optimizer='adam',\n",
    "                      loss='sparse_categorical_crossentropy',\n",
    "                      metrics=['accuracy']\n",
    "                      )\n",
    "fashion_model.fit(f_train_data, f_train_label, epochs=10)"
   ]
  },
  {
   "cell_type": "markdown",
   "source": [
    "### Confusion matrix\n",
    "\n",
    "Make predictions and convert prediction probabilities into integers.\n",
    "Create and plot confusion matrix."
   ],
   "metadata": {
    "collapsed": false
   }
  },
  {
   "cell_type": "code",
   "execution_count": 74,
   "outputs": [
    {
     "name": "stdout",
     "output_type": "stream",
     "text": [
      " 76/313 [======>.......................] - ETA: 0s"
     ]
    },
    {
     "name": "stderr",
     "output_type": "stream",
     "text": [
      "2022-12-14 21:53:42.864955: I tensorflow/core/grappler/optimizers/custom_graph_optimizer_registry.cc:113] Plugin optimizer for device_type GPU is enabled.\n"
     ]
    },
    {
     "name": "stdout",
     "output_type": "stream",
     "text": [
      "313/313 [==============================] - 1s 2ms/step\n"
     ]
    },
    {
     "data": {
      "text/plain": "<sklearn.metrics._plot.confusion_matrix.ConfusionMatrixDisplay at 0x3f4388d90>"
     },
     "execution_count": 74,
     "metadata": {},
     "output_type": "execute_result"
    },
    {
     "data": {
      "text/plain": "<Figure size 1000x1000 with 2 Axes>",
      "image/png": "[encoded data removed]"
     },
     "metadata": {},
     "output_type": "display_data"
    }
   ],
   "source": [
    "label_names = [\"T-shirt/top\",\"Trouser\",\"Pullover\",\"Dress\",\"Coat\",\"Sandal\",\"Shirt\",\"Sneaker\",\"Bag\",\"Ankle boot\"]\n",
    "test_labels = np.array(f_test_label)\n",
    "\n",
    "# Make predictions\n",
    "y_probabilities = fashion_model.predict(f_test_data)\n",
    "\n",
    "# Convert prediction probabilities into integers\n",
    "y_predictions = y_probabilities.argmax(axis=1)\n",
    "\n",
    "# Confusion matrix\n",
    "cm=confusion_matrix(y_predictions,test_labels)\n",
    "\n",
    "# Plot\n",
    "disp = ConfusionMatrixDisplay(confusion_matrix=cm, display_labels=label_names)\n",
    "fig, ax = plt.subplots(figsize=(10,10))\n",
    "disp.plot(ax=ax)"
   ],
   "metadata": {
    "collapsed": false
   }
  },
  {
   "cell_type": "markdown",
   "metadata": {},
   "source": [
    "\n",
    "## Classifying age of abalones.\n"
   ]
  },
  {
   "cell_type": "code",
   "execution_count": 75,
   "metadata": {},
   "outputs": [
    {
     "name": "stdout",
     "output_type": "stream",
     "text": [
      "<----->\n",
      "Abalone\n",
      "<----->\n"
     ]
    },
    {
     "name": "stderr",
     "output_type": "stream",
     "text": [
      "2022-12-14 21:53:43.965937: I tensorflow/core/grappler/optimizers/custom_graph_optimizer_registry.cc:113] Plugin optimizer for device_type GPU is enabled.\n",
      "2022-12-14 21:53:43.984737: I tensorflow/core/grappler/optimizers/custom_graph_optimizer_registry.cc:113] Plugin optimizer for device_type GPU is enabled.\n"
     ]
    }
   ],
   "source": [
    "print(\"<----->\\nAbalone\\n<----->\")\n",
    "abalone_data = pd.read_csv('abalones.csv',\n",
    "                           names=['Length', 'Diameter', 'Height', 'Whole Weight', 'Shucked Weight', 'Viscera Weight',\n",
    "                                  'Shell Weight', 'Age'])\n",
    "a_train_dataset = abalone_data.sample(frac=0.8, random_state=200)\n",
    "a_test_dataset = abalone_data.drop(a_train_dataset.index)\n",
    "\n",
    "a_train_data = a_train_dataset.copy()\n",
    "a_train_label = a_train_data.pop('Age')\n",
    "a_train_label = np.array(a_train_label)\n",
    "\n",
    "a_test_data = a_test_dataset.copy()\n",
    "a_test_label = a_test_data.pop('Age')\n",
    "a_test_label = np.array(a_test_label)\n",
    "\n",
    "normalize = tf.keras.layers.Normalization()\n",
    "normalize.adapt(a_train_data)\n",
    "normalize.adapt(a_test_data)"
   ]
  },
  {
   "cell_type": "code",
   "execution_count": 77,
   "metadata": {},
   "outputs": [
    {
     "name": "stdout",
     "output_type": "stream",
     "text": [
      "Epoch 1/10\n",
      " 1/35 [..............................] - ETA: 9s - loss: 3.3322 - accuracy: 0.0000e+00"
     ]
    },
    {
     "name": "stderr",
     "output_type": "stream",
     "text": [
      "2022-12-14 21:55:24.531997: I tensorflow/core/grappler/optimizers/custom_graph_optimizer_registry.cc:113] Plugin optimizer for device_type GPU is enabled.\n"
     ]
    },
    {
     "name": "stdout",
     "output_type": "stream",
     "text": [
      "35/35 [==============================] - 1s 9ms/step - loss: 3.3001 - accuracy: 0.0000e+00\n",
      "Epoch 2/10\n",
      "35/35 [==============================] - 0s 7ms/step - loss: 3.2328 - accuracy: 0.0000e+00\n",
      "Epoch 3/10\n",
      "35/35 [==============================] - 0s 7ms/step - loss: 3.1658 - accuracy: 0.0000e+00\n",
      "Epoch 4/10\n",
      "35/35 [==============================] - 0s 7ms/step - loss: 3.0991 - accuracy: 0.0000e+00\n",
      "Epoch 5/10\n",
      "35/35 [==============================] - 0s 7ms/step - loss: 3.0327 - accuracy: 0.0000e+00\n",
      "Epoch 6/10\n",
      "35/35 [==============================] - 0s 7ms/step - loss: 2.9666 - accuracy: 0.0000e+00\n",
      "Epoch 7/10\n",
      "35/35 [==============================] - 0s 7ms/step - loss: 2.9009 - accuracy: 0.0000e+00\n",
      "Epoch 8/10\n",
      "35/35 [==============================] - 0s 8ms/step - loss: 2.8356 - accuracy: 0.0000e+00\n",
      "Epoch 9/10\n",
      "35/35 [==============================] - 0s 8ms/step - loss: 2.7706 - accuracy: 0.0000e+00\n",
      "Epoch 10/10\n",
      "35/35 [==============================] - 0s 7ms/step - loss: 2.7061 - accuracy: 0.0000e+00\n",
      "9/9 [==============================] - 0s 6ms/step - loss: 0.4992 - accuracy: 0.5219\n",
      "9/9 [==============================] - 0s 7ms/step - loss: 3.4803 - accuracy: 0.2774\n",
      "94/94 [==============================] - 1s 6ms/step - loss: 0.4699 - accuracy: 0.8220\n",
      "313/313 [==============================] - 2s 6ms/step - loss: 0.3385 - accuracy: 0.8835\n",
      "3/3 [==============================] - 0s 23ms/step - loss: 2.6725 - accuracy: 0.0000e+00\n",
      "Models accuracy\n",
      "Banknote: 52.19%\n",
      "Banknote 2: 27.74%\n",
      "Cifar3: 82.2%\n",
      "Fashion: 88.35%\n",
      "Abalone: 0.0%\n"
     ]
    },
    {
     "name": "stderr",
     "output_type": "stream",
     "text": [
      "2022-12-14 21:55:30.031778: I tensorflow/core/grappler/optimizers/custom_graph_optimizer_registry.cc:113] Plugin optimizer for device_type GPU is enabled.\n"
     ]
    }
   ],
   "source": [
    "abalone_model = tf.keras.Sequential([normalize,\n",
    "                                     tf.keras.layers.Dense(128, activation='relu'),\n",
    "                                     tf.keras.layers.Dense(64, activation='relu'),\n",
    "                                     tf.keras.layers.Dense(28, activation='softmax')\n",
    "                                     ])\n",
    "abalone_model.compile(optimizer='adam',\n",
    "                      loss='sparse_categorical_crossentropy',\n",
    "                      metrics=['accuracy']\n",
    "                      )\n",
    "abalone_model.fit(a_train_data, a_train_label, epochs=10)\n",
    "print(f\"Models accuracy\"\n",
    "       f\"\\nBanknote: {round(banknote_model.evaluate(b_test_data, b_test_label)[1] * 100, 2)}%\"\n",
    "       f\"\\nBanknote 2: {round(banknote_model_v2.evaluate(b_test_data, b_test_label)[1] * 100, 2)}%\"\n",
    "       f\"\\nCifar3: {round(cifar3_model.evaluate(cifar3_test_data, cifar3_test_label)[1] * 100, 2)}%\"\n",
    "       f\"\\nFashion: {round(fashion_model.evaluate(f_test_data, f_test_label)[1] * 100, 2)}%\"\n",
    "       f\"\\nAbalone: {round(abalone_model.evaluate(a_test_data, a_test_label, batch_size=128)[1] * 100, 2)}%\")"
   ]
  },
  {
   "cell_type": "code",
   "execution_count": 76,
   "outputs": [],
   "source": [],
   "metadata": {
    "collapsed": false
   }
  }
 ],
 "metadata": {
  "kernelspec": {
   "display_name": "Python 3",
   "language": "python",
   "name": "python3"
  },
  "language_info": {
   "codemirror_mode": {
    "name": "ipython",
    "version": 3
   },
   "file_extension": ".py",
   "mimetype": "text/x-python",
   "name": "python",
   "nbconvert_exporter": "python",
   "pygments_lexer": "ipython3",
   "version": "3.6.4"
  }
 },
 "nbformat": 4,
 "nbformat_minor": 2
}
