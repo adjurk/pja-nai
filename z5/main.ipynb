{
 "cells": [
  {
   "cell_type": "markdown",
   "source": [
    "# Sieci neuronowe dla klasyfikacji\n",
    "\n",
    "Do przygotowania poniższych programów wykorzystano następujące dataset'y:\n",
    "\n",
    "- [banknote authentication dataset](https://archive.ics.uci.edu/ml/datasets/banknote+authentication)\n",
    "- [cifar10 dataset](https://www.tensorflow.org/datasets/catalog/cifar10) - klasyfikacja trzech zwierząt (kota, żaby oraz konia)\n",
    "- [fashion mnist (Zalando)](https://www.tensorflow.org/datasets/catalog/fashion_mnist)"
   ],
   "metadata": {
    "collapsed": false
   }
  },
  {
   "cell_type": "code",
   "execution_count": 1,
   "metadata": {},
   "outputs": [],
   "source": [
    "import tensorflow as tf\n",
    "import numpy as np\n",
    "import pandas as pd\n",
    "import matplotlib.pyplot as plt"
   ]
  },
  {
   "cell_type": "markdown",
   "metadata": {},
   "source": [
    "\n",
    "<br>\n",
    "Classifying banknotes as real or fake.<br>\n"
   ]
  },
  {
   "cell_type": "code",
   "execution_count": 2,
   "metadata": {},
   "outputs": [
    {
     "name": "stdout",
     "output_type": "stream",
     "text": [
      "<----->\n",
      "Banknote\n",
      "<----->\n"
     ]
    }
   ],
   "source": [
    "print(\"<----->\\nBanknote\\n<----->\")\n",
    "banknote_data = pd.read_csv('banknotes.csv', names=['Variance', 'Skewness', 'Kurtosis', 'Entropy', 'Class'])\n",
    "b_train_data = banknote_data.copy()\n",
    "b_train_label = banknote_data.pop('Class')\n",
    "b_train_data = np.array(b_train_data)"
   ]
  },
  {
   "cell_type": "code",
   "execution_count": 3,
   "metadata": {},
   "outputs": [
    {
     "name": "stdout",
     "output_type": "stream",
     "text": [
      "Metal device set to: Apple M1\n"
     ]
    },
    {
     "name": "stderr",
     "output_type": "stream",
     "text": [
      "2022-12-14 19:01:51.968254: I tensorflow/core/common_runtime/pluggable_device/pluggable_device_factory.cc:305] Could not identify NUMA node of platform GPU ID 0, defaulting to 0. Your kernel may not have been built with NUMA support.\n",
      "2022-12-14 19:01:51.968643: I tensorflow/core/common_runtime/pluggable_device/pluggable_device_factory.cc:271] Created TensorFlow device (/job:localhost/replica:0/task:0/device:GPU:0 with 0 MB memory) -> physical PluggableDevice (device: 0, name: METAL, pci bus id: <undefined>)\n"
     ]
    },
    {
     "name": "stdout",
     "output_type": "stream",
     "text": [
      "Epoch 1/5\n"
     ]
    },
    {
     "name": "stderr",
     "output_type": "stream",
     "text": [
      "2022-12-14 19:01:52.225170: W tensorflow/core/platform/profile_utils/cpu_utils.cc:128] Failed to get CPU frequency: 0 Hz\n",
      "2022-12-14 19:01:53.018986: I tensorflow/core/grappler/optimizers/custom_graph_optimizer_registry.cc:113] Plugin optimizer for device_type GPU is enabled.\n"
     ]
    },
    {
     "name": "stdout",
     "output_type": "stream",
     "text": [
      "43/43 [==============================] - 3s 8ms/step - loss: 0.6289 - accuracy: 0.5153\n",
      "Epoch 2/5\n",
      "43/43 [==============================] - 0s 9ms/step - loss: 0.1219 - accuracy: 0.8834\n",
      "Epoch 3/5\n",
      "43/43 [==============================] - 0s 7ms/step - loss: 0.0645 - accuracy: 0.9723\n",
      "Epoch 4/5\n",
      "43/43 [==============================] - 0s 7ms/step - loss: 0.0404 - accuracy: 0.9898\n",
      "Epoch 5/5\n",
      "43/43 [==============================] - 0s 6ms/step - loss: 0.0263 - accuracy: 0.9985\n"
     ]
    },
    {
     "data": {
      "text/plain": "<keras.callbacks.History at 0x13bc66980>"
     },
     "execution_count": 3,
     "metadata": {},
     "output_type": "execute_result"
    }
   ],
   "source": [
    "banknote_model = tf.keras.Sequential([tf.keras.layers.Dense(64, activation='relu'),\n",
    "                                      tf.keras.layers.Dense(1)\n",
    "                                      ])\n",
    "banknote_model.compile(optimizer='adam',\n",
    "                       loss='mean_squared_error',\n",
    "                       metrics=['accuracy']\n",
    "                       )\n",
    "banknote_model.fit(b_train_data, b_train_label, epochs=5)"
   ]
  },
  {
   "cell_type": "markdown",
   "metadata": {},
   "source": [
    "\n",
    "<br>\n",
    "Classifying 3 different animals.<br>\n"
   ]
  },
  {
   "cell_type": "code",
   "execution_count": 4,
   "metadata": {},
   "outputs": [
    {
     "name": "stdout",
     "output_type": "stream",
     "text": [
      "<----->\n",
      "Cifar10 Selected Animals\n",
      "<----->\n"
     ]
    }
   ],
   "source": [
    "print(\"<----->\\nCifar10 Selected Animals\\n<----->\")\n",
    "cifar10_data = tf.keras.datasets.cifar10\n",
    "(c_train_data, c_train_label), (c_test_data, c_test_label) = cifar10_data.load_data()\n",
    "c_train_data = c_train_data / 255\n",
    "c_test_data = c_test_data / 255"
   ]
  },
  {
   "cell_type": "code",
   "execution_count": 5,
   "metadata": {},
   "outputs": [],
   "source": [
    "cat_index = np.where(c_train_label.reshape(-1) == 3)\n",
    "cat_data = c_train_data[cat_index]\n",
    "cat_label = c_train_label[cat_index]"
   ]
  },
  {
   "cell_type": "code",
   "execution_count": 6,
   "metadata": {},
   "outputs": [],
   "source": [
    "frog_index = np.where(c_train_label.reshape(-1) == 6)\n",
    "frog_data = c_train_data[frog_index]\n",
    "frog_label = c_train_label[frog_index]"
   ]
  },
  {
   "cell_type": "code",
   "execution_count": 7,
   "metadata": {},
   "outputs": [],
   "source": [
    "horse_index = np.where(c_train_label.reshape(-1) == 7)\n",
    "horse_data = c_train_data[horse_index]\n",
    "horse_label = c_train_label[horse_index]"
   ]
  },
  {
   "cell_type": "code",
   "execution_count": 8,
   "metadata": {},
   "outputs": [],
   "source": [
    "cifar3_train_data = np.concatenate((cat_data, frog_data, horse_data))\n",
    "cifar3_train_label = np.concatenate((cat_label, frog_label, horse_label)).reshape(-1, 1)\n",
    "cifar3_train_label[cifar3_train_label == 3] = 0\n",
    "cifar3_train_label[cifar3_train_label == 6] = 1\n",
    "cifar3_train_label[cifar3_train_label == 7] = 2"
   ]
  },
  {
   "cell_type": "code",
   "execution_count": 9,
   "metadata": {},
   "outputs": [
    {
     "name": "stdout",
     "output_type": "stream",
     "text": [
      "Epoch 1/10\n"
     ]
    },
    {
     "name": "stderr",
     "output_type": "stream",
     "text": [
      "2022-12-14 19:01:58.352926: I tensorflow/core/grappler/optimizers/custom_graph_optimizer_registry.cc:113] Plugin optimizer for device_type GPU is enabled.\n"
     ]
    },
    {
     "name": "stdout",
     "output_type": "stream",
     "text": [
      "469/469 [==============================] - 9s 15ms/step - loss: 0.7274 - accuracy: 0.6752\n",
      "Epoch 2/10\n",
      "469/469 [==============================] - 6s 12ms/step - loss: 0.5204 - accuracy: 0.7849\n",
      "Epoch 3/10\n",
      "469/469 [==============================] - 5s 10ms/step - loss: 0.4475 - accuracy: 0.8183\n",
      "Epoch 4/10\n",
      "469/469 [==============================] - 5s 10ms/step - loss: 0.4065 - accuracy: 0.8353\n",
      "Epoch 5/10\n",
      "469/469 [==============================] - 5s 11ms/step - loss: 0.3652 - accuracy: 0.8542\n",
      "Epoch 6/10\n",
      "469/469 [==============================] - 5s 10ms/step - loss: 0.3431 - accuracy: 0.8638\n",
      "Epoch 7/10\n",
      "469/469 [==============================] - 5s 10ms/step - loss: 0.3157 - accuracy: 0.8760\n",
      "Epoch 8/10\n",
      "469/469 [==============================] - 5s 10ms/step - loss: 0.2890 - accuracy: 0.8852\n",
      "Epoch 9/10\n",
      "469/469 [==============================] - 5s 10ms/step - loss: 0.2581 - accuracy: 0.9003\n",
      "Epoch 10/10\n",
      "469/469 [==============================] - 4s 10ms/step - loss: 0.2365 - accuracy: 0.9088\n"
     ]
    },
    {
     "data": {
      "text/plain": "<keras.callbacks.History at 0x13ccc3b50>"
     },
     "execution_count": 9,
     "metadata": {},
     "output_type": "execute_result"
    }
   ],
   "source": [
    "cifar3_model = tf.keras.models.Sequential(\n",
    "    [tf.keras.layers.Conv2D(filters=32, kernel_size=(3, 3), activation='relu', input_shape=(32, 32, 3)),\n",
    "     tf.keras.layers.MaxPooling2D((2, 2)),\n",
    "     tf.keras.layers.Conv2D(filters=64, kernel_size=(3, 3), activation='relu'),\n",
    "     tf.keras.layers.MaxPooling2D((2, 2)),\n",
    "     tf.keras.layers.Flatten(),\n",
    "     tf.keras.layers.Dense(64, activation='relu'),\n",
    "     tf.keras.layers.Dense(3, activation='softmax')\n",
    "     ])\n",
    "cifar3_model.compile(optimizer='adam',\n",
    "                     loss='sparse_categorical_crossentropy',\n",
    "                     metrics=['accuracy']\n",
    "                     )\n",
    "cifar3_model.fit(cifar3_train_data, cifar3_train_label, epochs=10)"
   ]
  },
  {
   "cell_type": "markdown",
   "metadata": {},
   "source": [
    "\n",
    "<br>\n",
    "Classifying 10 different types of clothes.<br>\n"
   ]
  },
  {
   "cell_type": "code",
   "execution_count": 10,
   "metadata": {},
   "outputs": [
    {
     "name": "stdout",
     "output_type": "stream",
     "text": [
      "<----->\n",
      "Fashion Mnist\n",
      "<----->\n"
     ]
    }
   ],
   "source": [
    "print(\"<----->\\nFashion Mnist\\n<----->\")\n",
    "fashion_data = tf.keras.datasets.fashion_mnist\n",
    "(f_train_data, f_train_label), (f_test_data, f_test_label) = fashion_data.load_data()\n",
    "f_train_data = f_train_data / 255.0\n",
    "f_test_data = f_test_data / 255.0"
   ]
  },
  {
   "cell_type": "code",
   "execution_count": 11,
   "metadata": {},
   "outputs": [
    {
     "name": "stdout",
     "output_type": "stream",
     "text": [
      "Epoch 1/10\n"
     ]
    },
    {
     "name": "stderr",
     "output_type": "stream",
     "text": [
      "2022-12-14 19:02:51.290636: I tensorflow/core/grappler/optimizers/custom_graph_optimizer_registry.cc:113] Plugin optimizer for device_type GPU is enabled.\n"
     ]
    },
    {
     "name": "stdout",
     "output_type": "stream",
     "text": [
      "1875/1875 [==============================] - 11s 6ms/step - loss: 0.4930 - accuracy: 0.8257\n",
      "Epoch 2/10\n",
      "1875/1875 [==============================] - 11s 6ms/step - loss: 0.3718 - accuracy: 0.8655\n",
      "Epoch 3/10\n",
      "1875/1875 [==============================] - 11s 6ms/step - loss: 0.3358 - accuracy: 0.8785\n",
      "Epoch 4/10\n",
      "1875/1875 [==============================] - 11s 6ms/step - loss: 0.3123 - accuracy: 0.8867\n",
      "Epoch 5/10\n",
      "1875/1875 [==============================] - 11s 6ms/step - loss: 0.2944 - accuracy: 0.8906\n",
      "Epoch 6/10\n",
      "1875/1875 [==============================] - 13s 7ms/step - loss: 0.2799 - accuracy: 0.8963\n",
      "Epoch 7/10\n",
      "1875/1875 [==============================] - 12s 6ms/step - loss: 0.2688 - accuracy: 0.9009\n",
      "Epoch 8/10\n",
      "1875/1875 [==============================] - 12s 7ms/step - loss: 0.2558 - accuracy: 0.9046\n",
      "Epoch 9/10\n",
      "1875/1875 [==============================] - 11s 6ms/step - loss: 0.2493 - accuracy: 0.9070\n",
      "Epoch 10/10\n",
      "1875/1875 [==============================] - 11s 6ms/step - loss: 0.2401 - accuracy: 0.9111\n"
     ]
    },
    {
     "data": {
      "text/plain": "<keras.callbacks.History at 0x15e00ee90>"
     },
     "execution_count": 11,
     "metadata": {},
     "output_type": "execute_result"
    }
   ],
   "source": [
    "fashion_model = tf.keras.Sequential([tf.keras.layers.Flatten(input_shape=(28, 28)),\n",
    "                                     tf.keras.layers.Dense(128, activation='relu'),\n",
    "                                     tf.keras.layers.Dense(10, activation='softmax')\n",
    "                                     ])\n",
    "fashion_model.compile(optimizer='adam',\n",
    "                      loss='sparse_categorical_crossentropy',\n",
    "                      metrics=['accuracy']\n",
    "                      )\n",
    "fashion_model.fit(f_train_data, f_train_label, epochs=10)"
   ]
  },
  {
   "cell_type": "markdown",
   "metadata": {},
   "source": [
    "\n",
    "<br>\n",
    "Classifying age of abalones.<br>\n"
   ]
  },
  {
   "cell_type": "code",
   "execution_count": 12,
   "metadata": {},
   "outputs": [
    {
     "name": "stdout",
     "output_type": "stream",
     "text": [
      "<----->\n",
      "Abalone\n",
      "<----->\n"
     ]
    },
    {
     "name": "stderr",
     "output_type": "stream",
     "text": [
      "2022-12-14 19:04:45.430062: I tensorflow/core/grappler/optimizers/custom_graph_optimizer_registry.cc:113] Plugin optimizer for device_type GPU is enabled.\n",
      "2022-12-14 19:04:45.448658: I tensorflow/core/grappler/optimizers/custom_graph_optimizer_registry.cc:113] Plugin optimizer for device_type GPU is enabled.\n"
     ]
    }
   ],
   "source": [
    "print(\"<----->\\nAbalone\\n<----->\")\n",
    "abalone_data = pd.read_csv('abalones.csv',\n",
    "                           names=['Length', 'Diameter', 'Height', 'Whole Weight', 'Shucked Weight', 'Viscera Weight',\n",
    "                                  'Shell Weight', 'Age'])\n",
    "a_train_data = abalone_data.copy()\n",
    "a_train_label = abalone_data.pop('Age')\n",
    "a_train_label = np.array(a_train_label)\n",
    "normalize = tf.keras.layers.Normalization()\n",
    "normalize.adapt(a_train_data)"
   ]
  },
  {
   "cell_type": "code",
   "execution_count": 13,
   "metadata": {},
   "outputs": [
    {
     "name": "stdout",
     "output_type": "stream",
     "text": [
      "Epoch 1/10\n"
     ]
    },
    {
     "name": "stderr",
     "output_type": "stream",
     "text": [
      "2022-12-14 19:04:46.145409: I tensorflow/core/grappler/optimizers/custom_graph_optimizer_registry.cc:113] Plugin optimizer for device_type GPU is enabled.\n"
     ]
    },
    {
     "name": "stdout",
     "output_type": "stream",
     "text": [
      "43/43 [==============================] - 1s 10ms/step - loss: 3.2919 - accuracy: 0.0000e+00\n",
      "Epoch 2/10\n",
      "43/43 [==============================] - 0s 8ms/step - loss: 3.2093 - accuracy: 0.0000e+00\n",
      "Epoch 3/10\n",
      "43/43 [==============================] - 0s 9ms/step - loss: 3.1271 - accuracy: 0.0000e+00\n",
      "Epoch 4/10\n",
      "43/43 [==============================] - 0s 10ms/step - loss: 3.0454 - accuracy: 0.0000e+00\n",
      "Epoch 5/10\n",
      "43/43 [==============================] - 0s 8ms/step - loss: 2.9642 - accuracy: 0.0000e+00\n",
      "Epoch 6/10\n",
      "43/43 [==============================] - 0s 9ms/step - loss: 2.8836 - accuracy: 0.0000e+00\n",
      "Epoch 7/10\n",
      "43/43 [==============================] - 0s 9ms/step - loss: 2.8035 - accuracy: 0.0000e+00\n",
      "Epoch 8/10\n",
      "43/43 [==============================] - 0s 8ms/step - loss: 2.7240 - accuracy: 0.0000e+00\n",
      "Epoch 9/10\n",
      "43/43 [==============================] - 0s 8ms/step - loss: 2.6452 - accuracy: 0.0000e+00\n",
      "Epoch 10/10\n",
      "43/43 [==============================] - 0s 9ms/step - loss: 2.5672 - accuracy: 0.0000e+00\n"
     ]
    },
    {
     "data": {
      "text/plain": "<keras.callbacks.History at 0x14b4932b0>"
     },
     "execution_count": 13,
     "metadata": {},
     "output_type": "execute_result"
    }
   ],
   "source": [
    "abalone_model = tf.keras.Sequential([normalize,\n",
    "                                     tf.keras.layers.Dense(128, activation='relu'),\n",
    "                                     tf.keras.layers.Dense(64, activation='relu'),\n",
    "                                     tf.keras.layers.Dense(28, activation='softmax')\n",
    "                                     ])\n",
    "abalone_model.compile(optimizer='adam',\n",
    "                      loss='sparse_categorical_crossentropy',\n",
    "                      metrics=['accuracy']\n",
    "                      )\n",
    "abalone_model.fit(a_train_data, a_train_label, epochs=10)"
   ]
  }
 ],
 "metadata": {
  "kernelspec": {
   "display_name": "Python 3",
   "language": "python",
   "name": "python3"
  },
  "language_info": {
   "codemirror_mode": {
    "name": "ipython",
    "version": 3
   },
   "file_extension": ".py",
   "mimetype": "text/x-python",
   "name": "python",
   "nbconvert_exporter": "python",
   "pygments_lexer": "ipython3",
   "version": "3.6.4"
  }
 },
 "nbformat": 4,
 "nbformat_minor": 2
}
